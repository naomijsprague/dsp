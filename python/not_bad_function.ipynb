{
 "cells": [
  {
   "cell_type": "markdown",
   "metadata": {},
   "source": [
    "###Prework Exercises \n",
    "\n",
    "Python strings.py"
   ]
  },
  {
   "cell_type": "code",
   "execution_count": null,
   "metadata": {
    "collapsed": true
   },
   "outputs": [],
   "source": [
    "def not_bad(s):\n",
    "    \"\"\"\n",
    "    Given a string, find the first appearance of the substring 'not'\n",
    "    and 'bad'. If the 'bad' follows the 'not', replace the whole\n",
    "    'not'...'bad' substring with 'good'. Return the resulting string.\n",
    "    So 'This dinner is not that bad!' yields: 'This dinner is\n",
    "    good!'\n",
    "\n",
    "    >>> not_bad('This movie is not so bad')\n",
    "    'This movie is good'\n",
    "    >>> not_bad('This dinner is not that bad!')\n",
    "    'This dinner is good!'\n",
    "    >>> not_bad('This tea is not hot')\n",
    "    'This tea is not hot'\n",
    "    >>> not_bad(\"It's bad yet not\")\n",
    "    \"It's bad yet not\"\n",
    "    \"\"\"\n",
    "    \n",
    "    \n",
    "    raise NotImplementedError"
   ]
  },
  {
   "cell_type": "code",
   "execution_count": 9,
   "metadata": {
    "collapsed": false
   },
   "outputs": [
    {
     "name": "stdout",
     "output_type": "stream",
     "text": [
      "This movie is good\n"
     ]
    }
   ],
   "source": [
    "def not_bad(s):\n",
    "    word_not = 'not'\n",
    "    word_bad = 'bad'\n",
    "    index_not = s.find(word_not)\n",
    "    index_bad = s.find(word_bad)\n",
    "    if index_not < index_bad:\n",
    "        new_string = s[:index_not] + 'good' + s[index_bad+3:]\n",
    "    print new_string    \n",
    "    \n",
    "not_bad('This movie is not so bad')"
   ]
  },
  {
   "cell_type": "markdown",
   "metadata": {},
   "source": [
    "###Front_back function"
   ]
  },
  {
   "cell_type": "code",
   "execution_count": null,
   "metadata": {
    "collapsed": true
   },
   "outputs": [],
   "source": [
    "def front_back(a, b):\n",
    "    \"\"\"\n",
    "    Consider dividing a string into two halves. If the length is even,\n",
    "    the front and back halves are the same length. If the length is\n",
    "    odd, we'll say that the extra char goes in the front half. e.g.\n",
    "    'abcde', the front half is 'abc', the back half 'de'. Given 2\n",
    "    strings, a and b, return a string of the form a-front + b-front +\n",
    "    a-back + b-back\n",
    "\n",
    "    >>> front_back('abcd', 'xy')\n",
    "    'abxcdy'\n",
    "    >>> front_back('abcde', 'xyz')\n",
    "    'abcxydez'\n",
    "    >>> front_back('Kitten', 'Donut')\n",
    "    'KitDontenut'\n",
    "    \"\"\"\n",
    "    raise NotImplementedError"
   ]
  },
  {
   "cell_type": "code",
   "execution_count": 22,
   "metadata": {
    "collapsed": false
   },
   "outputs": [
    {
     "name": "stdout",
     "output_type": "stream",
     "text": [
      "abxcdy\n",
      "\n",
      "abcxydez\n",
      "\n",
      "KitDontenut\n"
     ]
    }
   ],
   "source": [
    "def front_back(a, b):\n",
    "    len_a = len(a)/2\n",
    "    len_b = len(b)/2\n",
    "    if len(a)%2 == 0:\n",
    "        a_front = a[:len_a]\n",
    "        a_back = a[len_a:]\n",
    "    elif len(a)%2 != 0:\n",
    "        a_front = a[:len_a+1]\n",
    "        a_back = a[len_a+1:]\n",
    "    if len(b)%2 == 0:\n",
    "        b_front = b[:len_b]\n",
    "        b_back = b[len_b:]\n",
    "    elif len(b)%2 != 0:\n",
    "        b_front = b[:len_b+1]\n",
    "        b_back = b[len_b+1:]\n",
    "    new_string = a_front + b_front + a_back + b_back\n",
    "    print new_string\n",
    "\n",
    "front_back('abcd', 'xy')  \n",
    "print\n",
    "front_back('abcde', 'xyz')        \n",
    "print \n",
    "front_back('Kitten', 'Donut')\n"
   ]
  },
  {
   "cell_type": "code",
   "execution_count": null,
   "metadata": {
    "collapsed": true
   },
   "outputs": [],
   "source": []
  }
 ],
 "metadata": {
  "kernelspec": {
   "display_name": "Python 2",
   "language": "python",
   "name": "python2"
  },
  "language_info": {
   "codemirror_mode": {
    "name": "ipython",
    "version": 2
   },
   "file_extension": ".py",
   "mimetype": "text/x-python",
   "name": "python",
   "nbconvert_exporter": "python",
   "pygments_lexer": "ipython2",
   "version": "2.7.10"
  }
 },
 "nbformat": 4,
 "nbformat_minor": 0
}
