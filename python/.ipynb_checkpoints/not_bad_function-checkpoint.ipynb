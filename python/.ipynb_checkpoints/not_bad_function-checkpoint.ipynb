{
 "cells": [
  {
   "cell_type": "markdown",
   "metadata": {},
   "source": [
    "###Prework Exercises \n",
    "\n",
    "Python strings.py"
   ]
  },
  {
   "cell_type": "code",
   "execution_count": null,
   "metadata": {
    "collapsed": true
   },
   "outputs": [],
   "source": [
    "def not_bad(s):\n",
    "    \"\"\"\n",
    "    Given a string, find the first appearance of the substring 'not'\n",
    "    and 'bad'. If the 'bad' follows the 'not', replace the whole\n",
    "    'not'...'bad' substring with 'good'. Return the resulting string.\n",
    "    So 'This dinner is not that bad!' yields: 'This dinner is\n",
    "    good!'\n",
    "\n",
    "    >>> not_bad('This movie is not so bad')\n",
    "    'This movie is good'\n",
    "    >>> not_bad('This dinner is not that bad!')\n",
    "    'This dinner is good!'\n",
    "    >>> not_bad('This tea is not hot')\n",
    "    'This tea is not hot'\n",
    "    >>> not_bad(\"It's bad yet not\")\n",
    "    \"It's bad yet not\"\n",
    "    \"\"\"\n",
    "    \n",
    "    \n",
    "    raise NotImplementedError"
   ]
  },
  {
   "cell_type": "code",
   "execution_count": 8,
   "metadata": {
    "collapsed": false
   },
   "outputs": [
    {
     "name": "stdout",
     "output_type": "stream",
     "text": [
      "This movie is goodbad\n"
     ]
    }
   ],
   "source": [
    "def not_bad(s):\n",
    "    word_not = 'not'\n",
    "    word_bad = 'bad'\n",
    "    index_not = s.find(word_not)\n",
    "    index_bad = s.find(word_bad)\n",
    "    if index_not < index_bad:\n",
    "        new_string = s[:index_not] + 'good' + s[index_bad+3:]\n",
    "    print new_string    \n",
    "    \n",
    "not_bad('This movie is not so bad')"
   ]
  },
  {
   "cell_type": "code",
   "execution_count": null,
   "metadata": {
    "collapsed": true
   },
   "outputs": [],
   "source": []
  }
 ],
 "metadata": {
  "kernelspec": {
   "display_name": "Python 2",
   "language": "python",
   "name": "python2"
  },
  "language_info": {
   "codemirror_mode": {
    "name": "ipython",
    "version": 2
   },
   "file_extension": ".py",
   "mimetype": "text/x-python",
   "name": "python",
   "nbconvert_exporter": "python",
   "pygments_lexer": "ipython2",
   "version": "2.7.10"
  }
 },
 "nbformat": 4,
 "nbformat_minor": 0
}
